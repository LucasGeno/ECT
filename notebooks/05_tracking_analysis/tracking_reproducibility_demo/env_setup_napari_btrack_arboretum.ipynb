{
 "cells": [
  {
   "cell_type": "markdown",
   "id": "a9fe8a94",
   "metadata": {},
   "source": [
    "This notebook demonstrates how to set up and use a working Napari environment with both the `btrack` and `Arboretum` plugins.  \n",
    "It also shows how to load microscopy frames and segmentation masks, run Bayesian tracking with `btrack`, and visualize results directly in Napari.\n",
    "\n",
    "tested with macOS (Intel/Apple Silicon) and Linux systems.\n",
    "\n",
    "**Tip:**  \n",
    "This environment ensures `btrack` and `Arboretum` can run in the same Napari session—something not guaranteed in other setups.\n",
    "\n"
   ]
  },
  {
   "cell_type": "code",
   "execution_count": null,
   "id": "151b4f0e",
   "metadata": {
    "vscode": {
     "languageId": "shellscript"
    }
   },
   "outputs": [],
   "source": [
    "## Install env\n",
    "\n",
    "\n",
    "conda env create -f notebooks/05_tracking_analysis/tracking_reproducibility_demo/env_napari.yml\n",
    "conda activate napari_tracking_env"
   ]
  },
  {
   "cell_type": "markdown",
   "id": "aad545c4",
   "metadata": {},
   "source": [
    "Then open napari via the terminal, simply by calling napari."
   ]
  },
  {
   "cell_type": "code",
   "execution_count": null,
   "id": "c00dfb26",
   "metadata": {
    "vscode": {
     "languageId": "shellscript"
    }
   },
   "outputs": [],
   "source": [
    "napari"
   ]
  },
  {
   "cell_type": "markdown",
   "id": "5d45c9cd",
   "metadata": {},
   "source": [
    "This may take a while if openning for the first time. Once opened, you should be able to see the two plugins present on the top left, btrack and arboretum.\n",
    "\n",
    "Proceed with loading timelapse data (frames and their accompanying masks). Next open btrack, select the masks, setup configuration, I recommend selecting the already curated config (M9 or LB). Confirm then run btrack. This will generate a tracks layer. \n",
    "\n",
    "Next to visualise this layer within a tree format. Open the arboretum plugin. Select the track layer. Return the playback to the first frame and double click either cell object/tracks. This will load the lineage tree in the popup.  "
   ]
  }
 ],
 "metadata": {
  "language_info": {
   "name": "python"
  }
 },
 "nbformat": 4,
 "nbformat_minor": 5
}
