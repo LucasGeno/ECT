{
 "cells": [
  {
   "cell_type": "markdown",
   "id": "a9fe8a94",
   "metadata": {},
   "source": [
    "# Napari + btrack + Arboretum Setup Guide\n",
    "\n",
    "This notebook demonstrates how to set up and use a working Napari environment with both the `btrack` and `Arboretum` plugins for reproducible cell tracking analysis.\n",
    "\n",
    "## What This Demo Provides\n",
    "\n",
    "- **Environment setup** for Napari with tracking plugins\n",
    "- **Pre-configured btrack settings** optimized for E. coli datasets\n",
    "- **Interactive lineage visualization** using Arboretum\n",
    "- **Reproducible workflow** matching the thesis analysis\n",
    "\n",
    "## Tested Systems\n",
    "\n",
    "✅ macOS (Intel/Apple Silicon)  \n",
    "✅ Linux systems  \n",
    "✅ Windows (with minor modifications)\n",
    "\n",
    "## Key Features\n",
    "\n",
    "- **Compatible plugins**: Ensures `btrack` and `Arboretum` work together\n",
    "- **Optimized configurations**: Pre-tuned for LB and M9 datasets\n",
    "- **Interactive analysis**: Real-time lineage tree visualization\n",
    "- **Data export**: Save tracking results and visualizations\n",
    "\n"
   ]
  },
  {
   "cell_type": "code",
   "execution_count": null,
   "id": "151b4f0e",
   "metadata": {
    "vscode": {
     "languageId": "shellscript"
    }
   },
   "outputs": [],
   "source": [
    "## Step 1: Environment Installation\n",
    "\n",
    "Create the conda environment with all required dependencies for Napari, btrack, and Arboretum.\n",
    "\n",
    "\n",
    "conda env create -f notebooks/05_tracking_analysis/tracking_reproducibility_demo/env_napari.yml\n",
    "conda activate napari_tracking_env"
   ]
  },
  {
   "cell_type": "markdown",
   "id": "aad545c4",
   "metadata": {},
   "source": [
    "## Step 2: Launch Napari\n",
    "\n",
    "Start Napari from the activated environment. This may take a moment on first launch as plugins are loaded."
   ]
  },
  {
   "cell_type": "code",
   "execution_count": null,
   "id": "c00dfb26",
   "metadata": {
    "vscode": {
     "languageId": "shellscript"
    }
   },
   "outputs": [],
   "source": [
    "napari"
   ]
  },
  {
   "cell_type": "markdown",
   "id": "5d45c9cd",
   "metadata": {},
   "source": [
    "## Step 3: Complete Workflow\n",
    "\n",
    "### 3.1 Load Data\n",
    "1. **Load time-lapse images**: File → Open → Select your dataset\n",
    "   - **LB Dataset**: `data/timelapse_data/LB_data/original_images.tif`\n",
    "   - **M9 Dataset**: `data/timelapse_data/M9_data/bf_frames.tif`\n",
    "\n",
    "2. **Load segmentation masks**: File → Open → Select corresponding masks\n",
    "   - **LB Masks**: `data/timelapse_data/LB_data/masks.tif`\n",
    "   - **M9 Masks**: `data/timelapse_data/M9_data/stacked_masks.tif`\n",
    "\n",
    "### 3.2 Run Cell Tracking\n",
    "1. **Open btrack plugin**: Should be visible in the plugins menu\n",
    "2. **Select masks layer**: Choose your loaded segmentation masks\n",
    "3. **Load configuration**: \n",
    "   - **LB**: Use `btrack_configs/LB_ROI1_config.json`\n",
    "   - **M9**: Use `btrack_configs/M9_ROI1_config.json`\n",
    "4. **Run tracking**: Click \"Run\" to start the Bayesian tracking algorithm\n",
    "5. **Results**: A new tracks layer will be created with cell lineages\n",
    "\n",
    "### 3.3 Visualize Lineages\n",
    "1. **Open Arboretum plugin**: Should be visible in the plugins menu\n",
    "2. **Select tracks layer**: Choose the tracks layer created by btrack\n",
    "3. **Navigate to first frame**: Use the time slider\n",
    "4. **View lineage tree**: Double-click any cell to open its lineage tree\n",
    "5. **Explore family tree**: Navigate through generations and siblings\n",
    "\n",
    "### 3.4 Save Results (Optional)\n",
    "```python\n",
    "# Save the complete Napari session\n",
    "viewer.layers.save(\"tracking_results.layers\")\n",
    "\n",
    "# Export tracking data\n",
    "tracks_layer = viewer.layers['tracks']\n",
    "tracks_layer.save(\"tracking_data.csv\")\n",
    "```\n",
    "\n",
    "## Troubleshooting\n",
    "\n",
    "- **Plugins not visible**: Restart Napari after environment activation\n",
    "- **Tracking fails**: Check mask format (integer labels, 0=background)\n",
    "- **Performance issues**: Use smaller datasets for testing\n",
    "- **Configuration errors**: Verify JSON file paths and format  "
   ]
  }
 ],
 "metadata": {
  "language_info": {
   "name": "python"
  }
 },
 "nbformat": 4,
 "nbformat_minor": 5
}
