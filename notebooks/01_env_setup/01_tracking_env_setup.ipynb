{
 "cells": [
  {
   "cell_type": "markdown",
   "metadata": {},
   "source": [
    "### Guide to setting up tracking_env used for thesis"
   ]
  },
  {
   "cell_type": "code",
   "execution_count": null,
   "metadata": {
    "vscode": {
     "languageId": "shellscript"
    }
   },
   "outputs": [],
   "source": [
    "# First try one file install\n",
    "\n",
    "conda env create -f environment-tracking.yml\n",
    "conda activate tracking_env\n",
    "python -m ipykernel install --user --name tracking_env --display-name \"Python (tracking_env)\"\n"
   ]
  },
  {
   "cell_type": "code",
   "execution_count": null,
   "metadata": {
    "vscode": {
     "languageId": "shellscript"
    }
   },
   "outputs": [],
   "source": [
    "# Test install\n",
    "python -c \"import btrack, napari, pandas, pyarrow; print('OK')\"\n"
   ]
  },
  {
   "cell_type": "markdown",
   "metadata": {},
   "source": [
    "---\n",
    "If the above fails. Try downloading dependencies as follows."
   ]
  },
  {
   "cell_type": "code",
   "execution_count": null,
   "metadata": {
    "vscode": {
     "languageId": "shellscript"
    }
   },
   "outputs": [],
   "source": [
    "conda create -n tracking_env python=3.9 -y\n",
    "conda activate tracking_env\n",
    "\n",
    "# scientific stack\n",
    "conda install -c conda-forge numpy scipy pandas scikit-image matplotlib \\\n",
    "  tifffile imageio h5py zarr numba statsmodels seaborn -y\n",
    "\n",
    "# parquet IO\n",
    "conda install -c conda-forge pyarrow fastparquet -y\n",
    "\n",
    "# jupyter kernel\n",
    "conda install -c conda-forge ipykernel jupyterlab -y\n",
    "\n",
    "# viewer stack (Qt via PySide2)\n",
    "conda install -c conda-forge napari pyside2 napari-matplotlib napari-svg -y\n",
    "\n",
    "# logging QoL\n",
    "conda install -c conda-forge rich loguru pint pooch llvm-openmp -y\n",
    "\n",
    "# tracker from pip\n",
    "pip install \"btrack[napari]\"\n",
    "\n",
    "python -m ipykernel install --user --name tracking_env --display-name \"Python (tracking_env)\"\n"
   ]
  }
 ],
 "metadata": {
  "kernelspec": {
   "display_name": "tracking_env",
   "language": "python",
   "name": "python3"
  },
  "language_info": {
   "codemirror_mode": {
    "name": "ipython",
    "version": 3
   },
   "file_extension": ".py",
   "mimetype": "text/x-python",
   "name": "python",
   "nbconvert_exporter": "python",
   "pygments_lexer": "ipython3",
   "version": "3.9.22"
  }
 },
 "nbformat": 4,
 "nbformat_minor": 2
}
