{
 "cells": [
  {
   "cell_type": "markdown",
   "id": "7e57f8ad",
   "metadata": {},
   "source": [
    "### Omnipose Installation Guide (for Apple Silicon / M1+ / CPU-only users)\n",
    "------------------------------------------\n",
    "Reference: https://github.com/kevinjohncutler/omnipose"
   ]
  },
  {
   "cell_type": "markdown",
   "id": "f2c73b32",
   "metadata": {
    "vscode": {
     "languageId": "shellscript"
    }
   },
   "source": [
    "### STEP 1: Create a new environment & activate it"
   ]
  },
  {
   "cell_type": "code",
   "execution_count": null,
   "id": "af205622",
   "metadata": {
    "vscode": {
     "languageId": "shellscript"
    }
   },
   "outputs": [],
   "source": [
    "conda create -n omni_env \"python=3.10.12\" -y pytorch\n",
    "conda activate omni_env"
   ]
  },
  {
   "cell_type": "markdown",
   "id": "7a6f298d",
   "metadata": {
    "vscode": {
     "languageId": "shellscript"
    }
   },
   "source": [
    "### STEP 2: If using manual approach, install exact working versions"
   ]
  },
  {
   "cell_type": "markdown",
   "id": "2b09c2dc",
   "metadata": {
    "vscode": {
     "languageId": "shellscript"
    }
   },
   "source": [
    "### STEP 3: Install Omnipose dependencies"
   ]
  },
  {
   "cell_type": "code",
   "execution_count": null,
   "id": "b5182585",
   "metadata": {
    "vscode": {
     "languageId": "shellscript"
    }
   },
   "outputs": [],
   "source": [
    "# Install core dependencies with exact working versions\n",
    "pip install numpy==1.26.4 scipy==1.10.1 scikit-image==0.24.0 aicsimageio torch_optimizer"
   ]
  },
  {
   "cell_type": "markdown",
   "id": "eb8ead8a",
   "metadata": {},
   "source": [
    "### STEP 3: Install Omnipose"
   ]
  },
  {
   "cell_type": "code",
   "execution_count": null,
   "id": "1aecc964",
   "metadata": {
    "vscode": {
     "languageId": "shellscript"
    }
   },
   "outputs": [],
   "source": [
    "pip install omnipose"
   ]
  },
  {
   "cell_type": "markdown",
   "id": "414c2594",
   "metadata": {},
   "source": [
    "### STEP 3: Optionaly Install Omnipose from Git (CRITICAL for GPU)"
   ]
  },
  {
   "cell_type": "code",
   "execution_count": null,
   "id": "12216eac",
   "metadata": {
    "vscode": {
     "languageId": "shellscript"
    }
   },
   "outputs": [],
   "source": [
    "pip install git+https://github.com/kevinjohncutler/omnipose.git "
   ]
  },
  {
   "cell_type": "markdown",
   "id": "532fa6e0",
   "metadata": {},
   "source": [
    "### STEP 5: Install Additional Dependencies"
   ]
  },
  {
   "cell_type": "code",
   "execution_count": null,
   "id": "6c3074a6",
   "metadata": {
    "vscode": {
     "languageId": "shellscript"
    }
   },
   "outputs": [],
   "source": [
    "# Install GUI and visualization dependencies\n",
    "pip install napari pyqt5 pyqt6 mahotas opencv-python-headless natsort pyqtgraph omnipose-theme superqt darkdetect seaborn aicsimageio\n"
   ]
  },
  {
   "cell_type": "markdown",
   "id": "a8dd2e9d",
   "metadata": {},
   "source": [
    "### STEP 6: Test\n"
   ]
  },
  {
   "cell_type": "code",
   "execution_count": null,
   "id": "51628e48",
   "metadata": {
    "vscode": {
     "languageId": "shellscript"
    }
   },
   "outputs": [],
   "source": [
    "omnipose --help"
   ]
  }
 ],
 "metadata": {
  "kernelspec": {
   "display_name": "omni_env_test",
   "language": "python",
   "name": "python3"
  },
  "language_info": {
   "codemirror_mode": {
    "name": "ipython",
    "version": 3
   },
   "file_extension": ".py",
   "mimetype": "text/x-python",
   "name": "python",
   "nbconvert_exporter": "python",
   "pygments_lexer": "ipython3",
   "version": "3.10.12"
  }
 },
 "nbformat": 4,
 "nbformat_minor": 5
}
